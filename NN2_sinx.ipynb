{
  "nbformat": 4,
  "nbformat_minor": 0,
  "metadata": {
    "colab": {
      "provenance": [],
      "collapsed_sections": []
    },
    "kernelspec": {
      "name": "python3",
      "display_name": "Python 3"
    },
    "language_info": {
      "name": "python"
    }
  },
  "cells": [
    {
      "cell_type": "code",
      "execution_count": null,
      "metadata": {
        "id": "3KwCY4qvPkAG"
      },
      "outputs": [],
      "source": [
        "import numpy as np\n",
        "import matplotlib.pyplot as plt"
      ]
    },
    {
      "cell_type": "code",
      "source": [
        "n=1000\n",
        "x=np.random.uniform(-2*np.pi,2*np.pi,n)"
      ],
      "metadata": {
        "id": "7_2XTPdlPtGg"
      },
      "execution_count": null,
      "outputs": []
    },
    {
      "cell_type": "code",
      "source": [
        "y=np.sin(x)\n",
        "yerr=np.random.uniform(-0.1,0.1,n)\n",
        "y=y+yerr\n"
      ],
      "metadata": {
        "id": "yZZOngk8Pxyl"
      },
      "execution_count": null,
      "outputs": []
    },
    {
      "cell_type": "code",
      "source": [
        "plt.scatter(x,y)"
      ],
      "metadata": {
        "colab": {
          "base_uri": "https://localhost:8080/",
          "height": 282
        },
        "id": "7ZFFEm_yQRS7",
        "outputId": "a888fb2c-36dc-4bab-f0c6-ff8947ab1ad6"
      },
      "execution_count": null,
      "outputs": [
        {
          "output_type": "execute_result",
          "data": {
            "text/plain": [
              "<matplotlib.collections.PathCollection at 0x7fb056500250>"
            ]
          },
          "metadata": {},
          "execution_count": 36
        },
        {
          "output_type": "display_data",
          "data": {
            "text/plain": [
              "<Figure size 432x288 with 1 Axes>"
            ],
            "image/png": "[encoded data removed]"
          },
          "metadata": {
            "needs_background": "light"
          }
        }
      ]
    },
    {
      "cell_type": "code",
      "source": [
        "actualx=np.arange(-5,5,0.1)\n",
        "print(actualx)"
      ],
      "metadata": {
        "id": "tvyObeuOQffB"
      },
      "execution_count": null,
      "outputs": []
    },
    {
      "cell_type": "code",
      "source": [
        "actualy=np.sin(actualx)\n",
        "plt.plot(actualx,actualy)"
      ],
      "metadata": {
        "colab": {
          "base_uri": "https://localhost:8080/",
          "height": 282
        },
        "id": "E5zDgvklSCZj",
        "outputId": "ffdbbb7f-15c2-40df-e18c-c0235018d2f5"
      },
      "execution_count": null,
      "outputs": [
        {
          "output_type": "execute_result",
          "data": {
            "text/plain": [
              "[<matplotlib.lines.Line2D at 0x7fb04f8e3510>]"
            ]
          },
          "metadata": {},
          "execution_count": 38
        },
        {
          "output_type": "display_data",
          "data": {
            "text/plain": [
              "<Figure size 432x288 with 1 Axes>"
            ],
            "image/png": "[encoded data removed]"
          },
          "metadata": {
            "needs_background": "light"
          }
        }
      ]
    },
    {
      "cell_type": "code",
      "source": [
        "import tensorflow as tf\n",
        "from tensorflow import keras\n",
        "from tensorflow.keras import Sequential\n",
        "from tensorflow.keras.layers import Dense\n"
      ],
      "metadata": {
        "id": "ARNhEhnuSa9s"
      },
      "execution_count": null,
      "outputs": []
    },
    {
      "cell_type": "code",
      "source": [
        "model = Sequential()\n",
        "model.add(Dense(20,input_shape=(1,),activation='ReLU'))\n",
        "model.add(Dense(50,activation='ReLU'))\n",
        "\n",
        "model.add(Dense(1,activation='ReLU'))\n",
        "model.summary()"
      ],
      "metadata": {
        "colab": {
          "base_uri": "https://localhost:8080/"
        },
        "id": "jJt-uDSjS8ab",
        "outputId": "f7c9698c-1345-4c03-e9fd-bead4151f21b"
      },
      "execution_count": null,
      "outputs": [
        {
          "output_type": "stream",
          "name": "stdout",
          "text": [
            "Model: \"sequential_14\"\n",
            "_________________________________________________________________\n",
            " Layer (type)                Output Shape              Param #   \n",
            "=================================================================\n",
            " dense_46 (Dense)            (None, 20)                40        \n",
            "                                                                 \n",
            " dense_47 (Dense)            (None, 50)                1050      \n",
            "                                                                 \n",
            " dense_48 (Dense)            (None, 1)                 51        \n",
            "                                                                 \n",
            "=================================================================\n",
            "Total params: 1,141\n",
            "Trainable params: 1,141\n",
            "Non-trainable params: 0\n",
            "_________________________________________________________________\n"
          ]
        }
      ]
    },
    {
      "cell_type": "code",
      "source": [],
      "metadata": {
        "id": "IHmEYw2_8WQT"
      },
      "execution_count": null,
      "outputs": []
    },
    {
      "cell_type": "code",
      "source": [
        "model.compile(optimizer=\"SGD\",loss=\"mean_squared_error\")\n",
        "model.fit(x,y,epochs=100,batch_size=10)"
      ],
      "metadata": {
        "colab": {
          "base_uri": "https://localhost:8080/"
        },
        "id": "BVgHSSl3T7xO",
        "outputId": "a1c93d83-d777-4aaa-ed1e-dea287fc4dd1"
      },
      "execution_count": null,
      "outputs": [
        {
          "output_type": "stream",
          "name": "stdout",
          "text": [
            "Epoch 1/100\n",
            "100/100 [==============================] - 0s 2ms/step - loss: 0.4951\n",
            "Epoch 2/100\n",
            "100/100 [==============================] - 0s 2ms/step - loss: 0.4951\n",
            "Epoch 3/100\n",
            "100/100 [==============================] - 0s 2ms/step - loss: 0.4951\n",
            "Epoch 4/100\n",
            "100/100 [==============================] - 0s 1ms/step - loss: 0.4951\n",
            "Epoch 5/100\n",
            "100/100 [==============================] - 0s 1ms/step - loss: 0.4951\n",
            "Epoch 6/100\n",
            "100/100 [==============================] - 0s 1ms/step - loss: 0.4951\n",
            "Epoch 7/100\n",
            "100/100 [==============================] - 0s 2ms/step - loss: 0.4951\n",
            "Epoch 8/100\n",
            "100/100 [==============================] - 0s 2ms/step - loss: 0.4951\n",
            "Epoch 9/100\n",
            "100/100 [==============================] - 0s 1ms/step - loss: 0.4951\n",
            "Epoch 10/100\n",
            "100/100 [==============================] - 0s 1ms/step - loss: 0.4951\n",
            "Epoch 11/100\n",
            "100/100 [==============================] - 0s 1ms/step - loss: 0.4951\n",
            "Epoch 12/100\n",
            "100/100 [==============================] - 0s 1ms/step - loss: 0.4951\n",
            "Epoch 13/100\n",
            "100/100 [==============================] - 0s 2ms/step - loss: 0.4951\n",
            "Epoch 14/100\n",
            "100/100 [==============================] - 0s 2ms/step - loss: 0.4951\n",
            "Epoch 15/100\n",
            "100/100 [==============================] - 0s 2ms/step - loss: 0.4951\n",
            "Epoch 16/100\n",
            "100/100 [==============================] - 0s 2ms/step - loss: 0.4951\n",
            "Epoch 17/100\n",
            "100/100 [==============================] - 0s 2ms/step - loss: 0.4951\n",
            "Epoch 18/100\n",
            "100/100 [==============================] - 0s 1ms/step - loss: 0.4951\n",
            "Epoch 19/100\n",
            "100/100 [==============================] - 0s 2ms/step - loss: 0.4951\n",
            "Epoch 20/100\n",
            "100/100 [==============================] - 0s 2ms/step - loss: 0.4951\n",
            "Epoch 21/100\n",
            "100/100 [==============================] - 0s 2ms/step - loss: 0.4951\n",
            "Epoch 22/100\n",
            "100/100 [==============================] - 0s 2ms/step - loss: 0.4951\n",
            "Epoch 23/100\n",
            "100/100 [==============================] - 0s 2ms/step - loss: 0.4951\n",
            "Epoch 24/100\n",
            "100/100 [==============================] - 0s 2ms/step - loss: 0.4951\n",
            "Epoch 25/100\n",
            "100/100 [==============================] - 0s 1ms/step - loss: 0.4951\n",
            "Epoch 26/100\n",
            "100/100 [==============================] - 0s 1ms/step - loss: 0.4951\n",
            "Epoch 27/100\n",
            "100/100 [==============================] - 0s 2ms/step - loss: 0.4951\n",
            "Epoch 28/100\n",
            "100/100 [==============================] - 0s 2ms/step - loss: 0.4951\n",
            "Epoch 29/100\n",
            "100/100 [==============================] - 0s 2ms/step - loss: 0.4951\n",
            "Epoch 30/100\n",
            "100/100 [==============================] - 0s 2ms/step - loss: 0.4951\n",
            "Epoch 31/100\n",
            "100/100 [==============================] - 0s 1ms/step - loss: 0.4951\n",
            "Epoch 32/100\n",
            "100/100 [==============================] - 0s 1ms/step - loss: 0.4951\n",
            "Epoch 33/100\n",
            "100/100 [==============================] - 0s 2ms/step - loss: 0.4951\n",
            "Epoch 34/100\n",
            "100/100 [==============================] - 0s 1ms/step - loss: 0.4951\n",
            "Epoch 35/100\n",
            "100/100 [==============================] - 0s 1ms/step - loss: 0.4951\n",
            "Epoch 36/100\n",
            "100/100 [==============================] - 0s 2ms/step - loss: 0.4951\n",
            "Epoch 37/100\n",
            "100/100 [==============================] - 0s 1ms/step - loss: 0.4951\n",
            "Epoch 38/100\n",
            "100/100 [==============================] - 0s 1ms/step - loss: 0.4951\n",
            "Epoch 39/100\n",
            "100/100 [==============================] - 0s 2ms/step - loss: 0.4951\n",
            "Epoch 40/100\n",
            "100/100 [==============================] - 0s 2ms/step - loss: 0.4951\n",
            "Epoch 41/100\n",
            "100/100 [==============================] - 0s 1ms/step - loss: 0.4951\n",
            "Epoch 42/100\n",
            "100/100 [==============================] - 0s 2ms/step - loss: 0.4951\n",
            "Epoch 43/100\n",
            "100/100 [==============================] - 0s 1ms/step - loss: 0.4951\n",
            "Epoch 44/100\n",
            "100/100 [==============================] - 0s 2ms/step - loss: 0.4951\n",
            "Epoch 45/100\n",
            "100/100 [==============================] - 0s 1ms/step - loss: 0.4951\n",
            "Epoch 46/100\n",
            "100/100 [==============================] - 0s 2ms/step - loss: 0.4951\n",
            "Epoch 47/100\n",
            "100/100 [==============================] - 0s 1ms/step - loss: 0.4951\n",
            "Epoch 48/100\n",
            "100/100 [==============================] - 0s 1ms/step - loss: 0.4951\n",
            "Epoch 49/100\n",
            "100/100 [==============================] - 0s 1ms/step - loss: 0.4951\n",
            "Epoch 50/100\n",
            "100/100 [==============================] - 0s 2ms/step - loss: 0.4951\n",
            "Epoch 51/100\n",
            "100/100 [==============================] - 0s 2ms/step - loss: 0.4951\n",
            "Epoch 52/100\n",
            "100/100 [==============================] - 0s 2ms/step - loss: 0.4951\n",
            "Epoch 53/100\n",
            "100/100 [==============================] - 0s 1ms/step - loss: 0.4951\n",
            "Epoch 54/100\n",
            "100/100 [==============================] - 0s 2ms/step - loss: 0.4951\n",
            "Epoch 55/100\n",
            "100/100 [==============================] - 0s 1ms/step - loss: 0.4951\n",
            "Epoch 56/100\n",
            "100/100 [==============================] - 0s 2ms/step - loss: 0.4951\n",
            "Epoch 57/100\n",
            "100/100 [==============================] - 0s 2ms/step - loss: 0.4951\n",
            "Epoch 58/100\n",
            "100/100 [==============================] - 0s 2ms/step - loss: 0.4951\n",
            "Epoch 59/100\n",
            "100/100 [==============================] - 0s 2ms/step - loss: 0.4951\n",
            "Epoch 60/100\n",
            "100/100 [==============================] - 0s 2ms/step - loss: 0.4951\n",
            "Epoch 61/100\n",
            "100/100 [==============================] - 0s 2ms/step - loss: 0.4951\n",
            "Epoch 62/100\n",
            "100/100 [==============================] - 0s 3ms/step - loss: 0.4951\n",
            "Epoch 63/100\n",
            "100/100 [==============================] - 0s 2ms/step - loss: 0.4951\n",
            "Epoch 64/100\n",
            "100/100 [==============================] - 0s 2ms/step - loss: 0.4951\n",
            "Epoch 65/100\n",
            "100/100 [==============================] - 0s 2ms/step - loss: 0.4951\n",
            "Epoch 66/100\n",
            "100/100 [==============================] - 0s 2ms/step - loss: 0.4951\n",
            "Epoch 67/100\n",
            "100/100 [==============================] - 0s 2ms/step - loss: 0.4951\n",
            "Epoch 68/100\n",
            "100/100 [==============================] - 0s 2ms/step - loss: 0.4951\n",
            "Epoch 69/100\n",
            "100/100 [==============================] - 0s 2ms/step - loss: 0.4951\n",
            "Epoch 70/100\n",
            "100/100 [==============================] - 0s 1ms/step - loss: 0.4951\n",
            "Epoch 71/100\n",
            "100/100 [==============================] - 0s 2ms/step - loss: 0.4951\n",
            "Epoch 72/100\n",
            "100/100 [==============================] - 0s 2ms/step - loss: 0.4951\n",
            "Epoch 73/100\n",
            "100/100 [==============================] - 0s 1ms/step - loss: 0.4951\n",
            "Epoch 74/100\n",
            "100/100 [==============================] - 0s 2ms/step - loss: 0.4951\n",
            "Epoch 75/100\n",
            "100/100 [==============================] - 0s 2ms/step - loss: 0.4951\n",
            "Epoch 76/100\n",
            "100/100 [==============================] - 0s 1ms/step - loss: 0.4951\n",
            "Epoch 77/100\n",
            "100/100 [==============================] - 0s 1ms/step - loss: 0.4951\n",
            "Epoch 78/100\n",
            "100/100 [==============================] - 0s 2ms/step - loss: 0.4951\n",
            "Epoch 79/100\n",
            "100/100 [==============================] - 0s 1ms/step - loss: 0.4951\n",
            "Epoch 80/100\n",
            "100/100 [==============================] - 0s 2ms/step - loss: 0.4951\n",
            "Epoch 81/100\n",
            "100/100 [==============================] - 0s 2ms/step - loss: 0.4951\n",
            "Epoch 82/100\n",
            "100/100 [==============================] - 0s 1ms/step - loss: 0.4951\n",
            "Epoch 83/100\n",
            "100/100 [==============================] - 0s 1ms/step - loss: 0.4951\n",
            "Epoch 84/100\n",
            "100/100 [==============================] - 0s 2ms/step - loss: 0.4951\n",
            "Epoch 85/100\n",
            "100/100 [==============================] - 0s 2ms/step - loss: 0.4951\n",
            "Epoch 86/100\n",
            "100/100 [==============================] - 0s 1ms/step - loss: 0.4951\n",
            "Epoch 87/100\n",
            "100/100 [==============================] - 0s 2ms/step - loss: 0.4951\n",
            "Epoch 88/100\n",
            "100/100 [==============================] - 0s 1ms/step - loss: 0.4951\n",
            "Epoch 89/100\n",
            "100/100 [==============================] - 0s 1ms/step - loss: 0.4951\n",
            "Epoch 90/100\n",
            "100/100 [==============================] - 0s 2ms/step - loss: 0.4951\n",
            "Epoch 91/100\n",
            "100/100 [==============================] - 0s 2ms/step - loss: 0.4951\n",
            "Epoch 92/100\n",
            "100/100 [==============================] - 0s 2ms/step - loss: 0.4951\n",
            "Epoch 93/100\n",
            "100/100 [==============================] - 0s 2ms/step - loss: 0.4951\n",
            "Epoch 94/100\n",
            "100/100 [==============================] - 0s 2ms/step - loss: 0.4951\n",
            "Epoch 95/100\n",
            "100/100 [==============================] - 0s 2ms/step - loss: 0.4951\n",
            "Epoch 96/100\n",
            "100/100 [==============================] - 0s 2ms/step - loss: 0.4951\n",
            "Epoch 97/100\n",
            "100/100 [==============================] - 0s 1ms/step - loss: 0.4951\n",
            "Epoch 98/100\n",
            "100/100 [==============================] - 0s 2ms/step - loss: 0.4951\n",
            "Epoch 99/100\n",
            "100/100 [==============================] - 0s 2ms/step - loss: 0.4951\n",
            "Epoch 100/100\n",
            "100/100 [==============================] - 0s 2ms/step - loss: 0.4951\n"
          ]
        },
        {
          "output_type": "execute_result",
          "data": {
            "text/plain": [
              "<keras.callbacks.History at 0x7fb04b8f5990>"
            ]
          },
          "metadata": {},
          "execution_count": 65
        }
      ]
    },
    {
      "cell_type": "code",
      "source": [
        "testx=0.707\n",
        "testy=np.sin(testx)\n",
        "print(testy)"
      ],
      "metadata": {
        "colab": {
          "base_uri": "https://localhost:8080/"
        },
        "id": "n7JLqtGuUZDd",
        "outputId": "607acf6c-2494-4194-eb7a-b1a13b75777a"
      },
      "execution_count": null,
      "outputs": [
        {
          "output_type": "stream",
          "name": "stdout",
          "text": [
            "0.6495557555564224\n"
          ]
        }
      ]
    },
    {
      "cell_type": "code",
      "source": [
        "xtest=np.array([0.707]);\n",
        "print(xtest.shape)\n",
        "ytest=model.predict(xtest)\n",
        "\n",
        "print(ytest)"
      ],
      "metadata": {
        "colab": {
          "base_uri": "https://localhost:8080/"
        },
        "id": "34GHA23xVMsS",
        "outputId": "0a6754e9-247a-41d6-e2f1-f932a287e9fc"
      },
      "execution_count": null,
      "outputs": [
        {
          "output_type": "stream",
          "name": "stdout",
          "text": [
            "(1,)\n",
            "[[0.5198685]]\n"
          ]
        }
      ]
    },
    {
      "cell_type": "code",
      "source": [
        "c=np.arange(0,6.28,0.01)\n",
        "print(c.shape)"
      ],
      "metadata": {
        "id": "Q5oCK7gNrKKp",
        "colab": {
          "base_uri": "https://localhost:8080/"
        },
        "outputId": "7c708b88-d3d4-42d2-fb4a-0ef4d713a020"
      },
      "execution_count": null,
      "outputs": [
        {
          "output_type": "stream",
          "name": "stdout",
          "text": [
            "(628,)\n"
          ]
        }
      ]
    },
    {
      "cell_type": "code",
      "source": [
        "y1=np.sin(c)\n",
        "print(y1)"
      ],
      "metadata": {
        "id": "7tXRdUZQccUQ"
      },
      "execution_count": null,
      "outputs": []
    },
    {
      "cell_type": "code",
      "source": [],
      "metadata": {
        "id": "HwZ28TabeN0H"
      },
      "execution_count": null,
      "outputs": []
    },
    {
      "cell_type": "code",
      "source": [
        "y2=model.predict(c)\n",
        "plt.plot(c,y2)"
      ],
      "metadata": {
        "colab": {
          "base_uri": "https://localhost:8080/",
          "height": 282
        },
        "id": "ciLwJBiQcw93",
        "outputId": "e749bdec-8986-465f-e027-e70e0dc26f7b"
      },
      "execution_count": null,
      "outputs": [
        {
          "output_type": "execute_result",
          "data": {
            "text/plain": [
              "[<matplotlib.lines.Line2D at 0x7fb04bd103d0>]"
            ]
          },
          "metadata": {},
          "execution_count": 46
        },
        {
          "output_type": "display_data",
          "data": {
            "text/plain": [
              "<Figure size 432x288 with 1 Axes>"
            ],
            "image/png": "[encoded data removed]"
          },
          "metadata": {
            "needs_background": "light"
          }
        }
      ]
    },
    {
      "cell_type": "code",
      "source": [
        "sample=np.arange(0,2*np.pi,0.1)\n",
        "s1=np.sin(sample)\n",
        "s2=model.predict(sample)\n",
        "plt.plot(sample,s1)\n",
        "plt.plot(sample,s2)"
      ],
      "metadata": {
        "colab": {
          "base_uri": "https://localhost:8080/",
          "height": 282
        },
        "id": "2ZGaIGebdQ-C",
        "outputId": "fb652ebe-3752-45fd-ec01-cd0c1ca8ce3a"
      },
      "execution_count": null,
      "outputs": [
        {
          "output_type": "execute_result",
          "data": {
            "text/plain": [
              "[<matplotlib.lines.Line2D at 0x7fb04bbf58d0>]"
            ]
          },
          "metadata": {},
          "execution_count": 48
        },
        {
          "output_type": "display_data",
          "data": {
            "text/plain": [
              "<Figure size 432x288 with 1 Axes>"
            ],
            "image/png": "[encoded data removed]"
          },
          "metadata": {
            "needs_background": "light"
          }
        }
      ]
    },
    {
      "cell_type": "code",
      "source": [],
      "metadata": {
        "id": "cGctY7Lij959"
      },
      "execution_count": null,
      "outputs": []
    }
  ]
}