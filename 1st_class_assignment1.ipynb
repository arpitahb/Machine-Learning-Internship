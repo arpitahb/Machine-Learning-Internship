{
  "nbformat": 4,
  "nbformat_minor": 0,
  "metadata": {
    "colab": {
      "name": "1st_class_assignment1.ipynb",
      "provenance": [],
      "collapsed_sections": []
    },
    "kernelspec": {
      "name": "python3",
      "display_name": "Python 3"
    },
    "language_info": {
      "name": "python"
    }
  },
  "cells": [
    {
      "cell_type": "code",
      "execution_count": null,
      "metadata": {
        "id": "73NPk9dxv-Mu"
      },
      "outputs": [],
      "source": [
        "import numpy as np\n",
        "import matplotlib.pyplot as plt"
      ]
    },
    {
      "cell_type": "code",
      "source": [
        "n=100\n",
        "testn=10\n",
        "xtrain=np.random.uniform(-2,2,(n,2))\n",
        "xtest=np.random.uniform(-2,2,(testn,2))\n",
        "ytest=np.random.uniform(-2,2,(testn,2))\n",
        "print(xtrain)\n"
      ],
      "metadata": {
        "id": "KtAXTbbYwWot"
      },
      "execution_count": null,
      "outputs": []
    },
    {
      "cell_type": "code",
      "source": [
        "i=0;\n",
        "ytrain=np.zeros(n)\n",
        "for x in xtrain:\n",
        "  ytrain[i]=3*x[0]**2+4*x[1];\n",
        "  i=i+1\n",
        "print(ytrain)\n",
        "\n",
        "i=0;\n",
        "ytest=np.zeros(testn)\n",
        "for x in xtest:\n",
        "  ytest[i]=3*x[0]**2+4*x[1];\n",
        "  i=i+1\n",
        "print(ytest)"
      ],
      "metadata": {
        "colab": {
          "base_uri": "https://localhost:8080/"
        },
        "id": "ZHTgW7kjoIkT",
        "outputId": "a1af264c-383b-4929-f8ad-4ab06d4de92f"
      },
      "execution_count": null,
      "outputs": [
        {
          "output_type": "stream",
          "name": "stdout",
          "text": [
            "[ 9.77974658e+00  7.43268584e+00  9.94865194e+00  3.93543760e+00\n",
            " -8.21959747e-01  6.19893992e+00 -5.56724049e-01  5.69205356e+00\n",
            "  1.81145182e-01  1.95919644e+00 -2.04990566e+00  1.80725672e+00\n",
            " -2.37950352e+00  1.03066287e+01 -2.90430848e+00  2.09815937e+00\n",
            " -7.46667472e+00  8.46464507e+00  3.49887925e+00  1.07448727e+01\n",
            "  3.01202983e+00 -5.24125912e+00  2.73485387e+00  1.97202475e+00\n",
            "  4.08833414e+00  8.21199221e+00  1.24240920e+01  8.47795302e-01\n",
            "  4.25800758e+00  5.05599651e+00  1.49966574e+00 -4.89453600e+00\n",
            "  2.42086857e+00  3.77738316e-01  3.27998424e+00 -7.03911826e+00\n",
            "  1.39374400e+01  1.08412890e+01  2.65899798e+00  2.69518022e+00\n",
            "  1.45908028e+01  1.21595215e+01  6.34852842e+00  2.34963301e+00\n",
            " -4.63265671e+00  1.16337455e+01  3.49722111e+00  2.87230256e+00\n",
            " -6.93778874e+00  2.18427898e-01  3.48842308e+00  3.86678117e+00\n",
            "  1.89823412e+00 -3.25065415e+00  8.02446378e+00  6.70466478e+00\n",
            "  1.05403794e+01  2.84652117e+00 -1.29613959e+00  9.79056187e+00\n",
            "  3.77179945e+00  5.84218725e+00  1.30026212e+00  6.31749829e+00\n",
            " -3.35105764e+00  1.00944935e+01  8.08356947e+00  7.06118376e-01\n",
            "  1.09473853e+00  9.30031689e+00  1.16969802e+00  1.26654374e+00\n",
            "  3.35475057e+00  8.91093093e+00  1.13040018e+01 -4.62543774e+00\n",
            "  6.43212417e+00 -7.00170163e+00 -1.00889718e+00  4.93856730e+00\n",
            "  1.19924975e+01  4.79843251e+00  5.85179865e+00  8.87580581e+00\n",
            "  5.87906704e+00 -3.64335733e-01  7.35257618e+00  1.44593840e+00\n",
            " -1.19553198e+00  4.71573884e+00 -4.08999977e+00 -6.99858419e-03\n",
            " -6.75607398e+00 -2.02406049e+00 -5.74400839e+00 -3.59328928e+00\n",
            "  7.76770946e+00  6.71510181e+00  1.27540883e+01 -3.16570009e+00]\n",
            "[ 1.81925501  5.80462795  1.28192144 13.23457354 -5.29633767 14.57218614\n",
            "  5.03635447  0.20328726 11.96232988  0.78084802]\n"
          ]
        }
      ]
    },
    {
      "cell_type": "code",
      "source": [
        "print(xtrain.shape)\n",
        "print(xtest.shape)\n",
        "print(ytrain.shape)\n",
        "print(ytest.shape)"
      ],
      "metadata": {
        "id": "JHkanZSb4WVh",
        "colab": {
          "base_uri": "https://localhost:8080/"
        },
        "outputId": "e452e5ac-3b43-4d12-e227-eb9d9e1a16d9"
      },
      "execution_count": null,
      "outputs": [
        {
          "output_type": "stream",
          "name": "stdout",
          "text": [
            "(100, 2)\n",
            "(10, 2)\n",
            "(100,)\n",
            "(10,)\n"
          ]
        }
      ]
    },
    {
      "cell_type": "code",
      "source": [
        "\n",
        "import tensorflow as tf\n",
        "from tensorflow import keras\n",
        "from tensorflow.keras import Sequential\n",
        "from tensorflow.keras.layers import Dense"
      ],
      "metadata": {
        "id": "QrpDHlvkyNTs"
      },
      "execution_count": null,
      "outputs": []
    },
    {
      "cell_type": "code",
      "source": [
        "model=Sequential()\n",
        "model.add(Dense(5,input_shape=(2,),activation='relu'))\n",
        "model.add(Dense(1,))\n",
        "#model.add(Dense(1))\n",
        "model.summary()"
      ],
      "metadata": {
        "id": "t-zihza-zNLM",
        "colab": {
          "base_uri": "https://localhost:8080/"
        },
        "outputId": "702a87c3-e671-4cac-ffd2-50c89ef081bb"
      },
      "execution_count": null,
      "outputs": [
        {
          "output_type": "stream",
          "name": "stdout",
          "text": [
            "Model: \"sequential_10\"\n",
            "_________________________________________________________________\n",
            " Layer (type)                Output Shape              Param #   \n",
            "=================================================================\n",
            " dense_23 (Dense)            (None, 5)                 15        \n",
            "                                                                 \n",
            " dense_24 (Dense)            (None, 1)                 6         \n",
            "                                                                 \n",
            "=================================================================\n",
            "Total params: 21\n",
            "Trainable params: 21\n",
            "Non-trainable params: 0\n",
            "_________________________________________________________________\n"
          ]
        }
      ]
    },
    {
      "cell_type": "code",
      "source": [
        "\n",
        "model.compile(optimizer=\"SGD\",loss=\"mean_squared_error\")\n",
        "model.fit(xtrain,ytrain,epochs=20,batch_size=10)"
      ],
      "metadata": {
        "colab": {
          "base_uri": "https://localhost:8080/"
        },
        "id": "GU1ER-8G1xSs",
        "outputId": "739c9ec9-9c2a-4890-baf4-f961459d5f03"
      },
      "execution_count": null,
      "outputs": [
        {
          "output_type": "stream",
          "name": "stdout",
          "text": [
            "Epoch 1/20\n",
            "10/10 [==============================] - 0s 1ms/step - loss: 34.7897\n",
            "Epoch 2/20\n",
            "10/10 [==============================] - 0s 1ms/step - loss: 27.9606\n",
            "Epoch 3/20\n",
            "10/10 [==============================] - 0s 2ms/step - loss: 23.8621\n",
            "Epoch 4/20\n",
            "10/10 [==============================] - 0s 2ms/step - loss: 21.2212\n",
            "Epoch 5/20\n",
            "10/10 [==============================] - 0s 2ms/step - loss: 19.0813\n",
            "Epoch 6/20\n",
            "10/10 [==============================] - 0s 1ms/step - loss: 17.0943\n",
            "Epoch 7/20\n",
            "10/10 [==============================] - 0s 1ms/step - loss: 14.8531\n",
            "Epoch 8/20\n",
            "10/10 [==============================] - 0s 2ms/step - loss: 13.1738\n",
            "Epoch 9/20\n",
            "10/10 [==============================] - 0s 1ms/step - loss: 11.6389\n",
            "Epoch 10/20\n",
            "10/10 [==============================] - 0s 1ms/step - loss: 10.5088\n",
            "Epoch 11/20\n",
            "10/10 [==============================] - 0s 1ms/step - loss: 9.4263\n",
            "Epoch 12/20\n",
            "10/10 [==============================] - 0s 1ms/step - loss: 8.3802\n",
            "Epoch 13/20\n",
            "10/10 [==============================] - 0s 1ms/step - loss: 7.6485\n",
            "Epoch 14/20\n",
            "10/10 [==============================] - 0s 1ms/step - loss: 6.7875\n",
            "Epoch 15/20\n",
            "10/10 [==============================] - 0s 1ms/step - loss: 6.0396\n",
            "Epoch 16/20\n",
            "10/10 [==============================] - 0s 1ms/step - loss: 5.4895\n",
            "Epoch 17/20\n",
            "10/10 [==============================] - 0s 1ms/step - loss: 4.9727\n",
            "Epoch 18/20\n",
            "10/10 [==============================] - 0s 1ms/step - loss: 4.5361\n",
            "Epoch 19/20\n",
            "10/10 [==============================] - 0s 1ms/step - loss: 4.0771\n",
            "Epoch 20/20\n",
            "10/10 [==============================] - 0s 1ms/step - loss: 3.7356\n"
          ]
        },
        {
          "output_type": "execute_result",
          "data": {
            "text/plain": [
              "<keras.callbacks.History at 0x7fdce6d99a50>"
            ]
          },
          "metadata": {},
          "execution_count": 86
        }
      ]
    },
    {
      "cell_type": "code",
      "source": [
        "print(ytest)\n",
        "prediction=model.predict(xtest)\n",
        "print(prediction)"
      ],
      "metadata": {
        "id": "P5Fdj4sT4-fz",
        "colab": {
          "base_uri": "https://localhost:8080/"
        },
        "outputId": "a8f254b1-a39d-4b7a-aaeb-c31966da5e6a"
      },
      "execution_count": null,
      "outputs": [
        {
          "output_type": "stream",
          "name": "stdout",
          "text": [
            "[ 1.81925501  5.80462795  1.28192144 13.23457354 -5.29633767 14.57218614\n",
            "  5.03635447  0.20328726 11.96232988  0.78084802]\n",
            "[[ 2.5145867]\n",
            " [ 6.607668 ]\n",
            " [ 2.4099874]\n",
            " [10.793001 ]\n",
            " [-1.3303483]\n",
            " [12.175474 ]\n",
            " [ 5.487852 ]\n",
            " [ 1.5330887]\n",
            " [11.348374 ]\n",
            " [ 1.231149 ]]\n"
          ]
        }
      ]
    },
    {
      "cell_type": "code",
      "source": [
        "xaxis=np.linspace(1,10,10)\n",
        "xaxis2=np.arange(1,11,1)\n",
        "print(xaxis)\n",
        "print(xaxis2)\n",
        "yaxis=np.zeros(testn)"
      ],
      "metadata": {
        "colab": {
          "base_uri": "https://localhost:8080/"
        },
        "id": "HX9LuQz8rk9I",
        "outputId": "55f77d8f-000d-4e4d-a601-9f394cddb1e3"
      },
      "execution_count": null,
      "outputs": [
        {
          "output_type": "stream",
          "name": "stdout",
          "text": [
            "[ 1.  2.  3.  4.  5.  6.  7.  8.  9. 10.]\n",
            "[ 1  2  3  4  5  6  7  8  9 10]\n"
          ]
        }
      ]
    },
    {
      "cell_type": "code",
      "source": [
        "plt.scatter(xaxis,ytest)\n",
        "plt.scatter(xaxis,prediction)\n",
        "plt.plot(xaxis,yaxis)\n",
        "plt.show()\n"
      ],
      "metadata": {
        "colab": {
          "base_uri": "https://localhost:8080/",
          "height": 265
        },
        "id": "NqC8-6Bhs-9l",
        "outputId": "ede1d862-26cc-44ed-f6f1-221064027bde"
      },
      "execution_count": null,
      "outputs": [
        {
          "output_type": "display_data",
          "data": {
            "text/plain": [
              "<Figure size 432x288 with 1 Axes>"
            ],
            "image/png": "[encoded data removed]"
          },
          "metadata": {
            "needs_background": "light"
          }
        }
      ]
    },
    {
      "cell_type": "code",
      "source": [
        "\n"
      ],
      "metadata": {
        "id": "Ns9npGGAtp4T"
      },
      "execution_count": null,
      "outputs": []
    }
  ]
}